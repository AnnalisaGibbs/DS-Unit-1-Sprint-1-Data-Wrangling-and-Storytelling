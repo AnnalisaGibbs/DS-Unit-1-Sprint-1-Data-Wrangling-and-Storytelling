{
  "nbformat": 4,
  "nbformat_minor": 0,
  "metadata": {
    "colab": {
      "name": "*AG/sprint1/mod1assignment//Copy of LS_DS_111_Exploratory_Data_Analysis_Assignment.ipynb",
      "provenance": [],
      "collapsed_sections": [],
      "include_colab_link": true
    },
    "kernelspec": {
      "name": "python3",
      "display_name": "Python 3"
    }
  },
  "cells": [
    {
      "cell_type": "markdown",
      "metadata": {
        "id": "view-in-github",
        "colab_type": "text"
      },
      "source": [
        "<a href=\"https://colab.research.google.com/github/AnnalisaGibbs/DS-Unit-1-Sprint-1-Data-Wrangling-and-Storytelling/blob/master/_AG_sprint1_mod1assignment_Copy_of_LS_DS_111_Exploratory_Data_Analysis_Assignment.ipynb\" target=\"_parent\"><img src=\"https://colab.research.google.com/assets/colab-badge.svg\" alt=\"Open In Colab\"/></a>"
      ]
    },
    {
      "cell_type": "markdown",
      "metadata": {
        "id": "EuP3CdEVGR2H",
        "colab_type": "text"
      },
      "source": [
        ""
      ]
    },
    {
      "cell_type": "markdown",
      "metadata": {
        "colab_type": "text",
        "id": "MSnsTgZLKO72"
      },
      "source": [
        "# Practice Loading and Exploring Datasets\n",
        "\n",
        "This assignment is purposely open-ended. You will be asked to load datasets from the [UC-Irvine Machine Learning Repository](https://archive.ics.uci.edu/ml/index.php). \n",
        "\n",
        "Even though you maybe using different datasets than your fellow classmates, try and be supportive and assist each other in the challenges that you are facing. You will only deepend your understanding of these topics as you work to assist one another. Many popular UCI datasets face similar data loading challenges.\n",
        "\n",
        "Remember that the UCI datasets do not necessarily have a file type of `.csv` so it's important that you learn as much as you can about the dataset before you try and load it. See if you can look at the raw text of the file either locally or using the `!curl` shell command -or in some other way before you try and read it in as a dataframe. This will help you catch what would otherwise be unforseen problems.\n",
        "\n",
        "Feel free to embellish this notebook with additional markdown cells,code cells, comments, graphs, etc. Whatever you think helps adequately address the questions."
      ]
    },
    {
      "cell_type": "markdown",
      "metadata": {
        "id": "156P6ndeKojO",
        "colab_type": "text"
      },
      "source": [
        "## 1) Load a dataset from UCI (via its URL)\n",
        "\n",
        "Please navigate to the home page and choose a dataset (other than the Adult dataset) from the \"Most Popular\" section on the right-hand side of the home page. Load the dataset via its URL and check the following (show your work):\n",
        "\n",
        "- Are the headers showing up properly?\n",
        "- Look at the first 5 and the last 5 rows, do they seem to be in order?\n",
        "- Does the dataset have the correct number of rows and columns as described in the UCI page? \n",
        " - Remember, that UCI does not count the y variable (column of values that we might want to predict via a machine learning model) as an \"attribute\" but rather as a \"class attribute\" so you may end up seeing a number of columns that is one greater than the number listed on the UCI website.\n",
        "- Does UCI list this dataset as having missing values? Check for missing values and see if your analysis corroborates what UCI reports?\n",
        "- if `NaN` values or other missing value indicators are not being detected by `df.isnull().sum()` find a way to replace whatever is indicating the missing values with `np.NaN`.\n",
        "- Use the .describe() function in order to see the summary statistics of both the numeric and non-numeric columns. "
      ]
    },
    {
      "cell_type": "code",
      "metadata": {
        "id": "NJdISe69ZT7E",
        "colab_type": "code",
        "outputId": "f3903b0c-ce58-4e1e-90f9-6fe52b6253df",
        "colab": {
          "base_uri": "https://localhost:8080/",
          "height": 1000
        }
      },
      "source": [
        "# TODO your work here!\n",
        "# And note you should write comments, descriptions, and add new\n",
        "# code and text blocks as needed\n",
        "bridge_data_url = 'https://archive.ics.uci.edu/ml/machine-learning-databases/bridges/bridges.data.version1'\n",
        "!curl https://archive.ics.uci.edu/ml/machine-learning-databases/bridges/bridges.data.version1\n",
        "\n"
      ],
      "execution_count": 0,
      "outputs": [
        {
          "output_type": "stream",
          "text": [
            "E1,M,3,1818,HIGHWAY,?,2,N,THROUGH,WOOD,SHORT,S,WOOD\n",
            "E2,A,25,1819,HIGHWAY,1037,2,N,THROUGH,WOOD,SHORT,S,WOOD\n",
            "E3,A,39,1829,AQUEDUCT,?,1,N,THROUGH,WOOD,?,S,WOOD\n",
            "E5,A,29,1837,HIGHWAY,1000,2,N,THROUGH,WOOD,SHORT,S,WOOD\n",
            "E6,M,23,1838,HIGHWAY,?,2,N,THROUGH,WOOD,?,S,WOOD\n",
            "E7,A,27,1840,HIGHWAY,990,2,N,THROUGH,WOOD,MEDIUM,S,WOOD\n",
            "E8,A,28,1844,AQUEDUCT,1000,1,N,THROUGH,IRON,SHORT,S,SUSPEN\n",
            "E9,M,3,1846,HIGHWAY,1500,2,N,THROUGH,IRON,SHORT,S,SUSPEN\n",
            "E10,A,39,1848,AQUEDUCT,?,1,N,DECK,WOOD,?,S,WOOD\n",
            "E11,A,29,1851,HIGHWAY,1000,2,N,THROUGH,WOOD,MEDIUM,S,WOOD\n",
            "E12,A,39,1853,RR,?,2,N,DECK,WOOD,?,S,WOOD\n",
            "E14,M,6,1856,HIGHWAY,1200,2,N,THROUGH,WOOD,MEDIUM,S,WOOD\n",
            "E13,A,33,1856,HIGHWAY,?,2,N,THROUGH,WOOD,?,S,WOOD\n",
            "E15,A,28,1857,RR,?,2,N,THROUGH,WOOD,?,S,WOOD\n",
            "E16,A,25,1859,HIGHWAY,1030,2,N,THROUGH,IRON,MEDIUM,S-F,SUSPEN\n",
            "E17,M,4,1863,RR,1000,2,N,THROUGH,IRON,MEDIUM,?,SIMPLE-T\n",
            "E18,A,28,1864,RR,1200,2,N,THROUGH,IRON,SHORT,S,SIMPLE-T\n",
            "E19,A,29,1866,HIGHWAY,1000,2,N,THROUGH,WOOD,MEDIUM,S,WOOD\n",
            "E20,A,32,1870,HIGHWAY,1000,2,N,THROUGH,WOOD,MEDIUM,S,WOOD\n",
            "E21,M,16,1874,RR,?,2,?,THROUGH,IRON,?,?,SIMPLE-T\n",
            "E23,M,1,1876,HIGHWAY,1245,?,?,THROUGH,STEEL,LONG,F,SUSPEN\n",
            "E22,A,24,1876,HIGHWAY,1200,4,G,THROUGH,WOOD,SHORT,S,WOOD\n",
            "E24,O,45,1878,RR,?,2,G,?,STEEL,?,?,SIMPLE-T\n",
            "E25,M,10,1882,RR,?,2,G,?,STEEL,?,?,SIMPLE-T\n",
            "E27,A,39,1883,RR,?,2,G,THROUGH,STEEL,?,F,SIMPLE-T\n",
            "E26,M,12,1883,RR,1150,2,G,THROUGH,STEEL,MEDIUM,S,SIMPLE-T\n",
            "E30,A,31,1884,RR,?,2,G,THROUGH,STEEL,MEDIUM,F,SIMPLE-T\n",
            "E29,A,26,1884,HIGHWAY,1080,2,G,THROUGH,STEEL,MEDIUM,?,SUSPEN\n",
            "E28,M,3,1884,HIGHWAY,1000,2,G,THROUGH,STEEL,MEDIUM,S,ARCH\n",
            "E32,A,30,1887,HIGHWAY,?,2,G,THROUGH,IRON,MEDIUM,F,SIMPLE-T\n",
            "E31,M,8,1887,RR,1161,2,G,THROUGH,STEEL,MEDIUM,S,SIMPLE-T\n",
            "E34,O,41,1888,RR,4558,2,G,THROUGH,STEEL,LONG,F,SIMPLE-T\n",
            "E33,M,19,1889,HIGHWAY,1120,?,G,THROUGH,IRON,MEDIUM,F,SIMPLE-T\n",
            "E36,O,45,1890,HIGHWAY,?,2,G,THROUGH,IRON,SHORT,F,SIMPLE-T\n",
            "E35,A,27,1890,HIGHWAY,1000,2,G,THROUGH,STEEL,MEDIUM,F,SIMPLE-T\n",
            "E38,M,17,1891,HIGHWAY,?,2,G,THROUGH,IRON,MEDIUM,F,SIMPLE-T\n",
            "E37,M,18,1891,RR,1350,2,G,THROUGH,STEEL,MEDIUM,S,SIMPLE-T\n",
            "E39,A,25,1892,HIGHWAY,?,2,G,THROUGH,STEEL,MEDIUM,F,SIMPLE-T\n",
            "E4,A,27,1892,AQUEDUCT,1092,1,N,THROUGH,WOOD,SHORT,S,WOOD\n",
            "E40,M,22,1893,HIGHWAY,?,2,G,THROUGH,STEEL,MEDIUM,F,SIMPLE-T\n",
            "E41,M,11,1894,HIGHWAY,?,2,G,THROUGH,IRON,MEDIUM,F,SIMPLE-T\n",
            "E42,M,9,1895,HIGHWAY,2367,2,G,THROUGH,STEEL,LONG,F,SIMPLE-T\n",
            "E44,O,48,1896,HIGHWAY,?,2,G,THROUGH,STEEL,LONG,F,SUSPEN\n",
            "E43,M,7,1896,HIGHWAY,1040,2,G,THROUGH,STEEL,LONG,F,ARCH\n",
            "E46,A,37,1897,RR,4000,2,G,DECK,STEEL,LONG,F,SIMPLE-T\n",
            "E45,M,14,1897,RR,2264,?,G,THROUGH,STEEL,?,F,SIMPLE-T\n",
            "E47,M,15,1898,RR,2000,2,G,THROUGH,STEEL,MEDIUM,S,SIMPLE-T\n",
            "E58,A,33,1900,HIGHWAY,1200,2,G,THROUGH,STEEL,MEDIUM,F,SIMPLE-T\n",
            "E48,A,38,1900,HIGHWAY,2000,2,G,THROUGH,STEEL,MEDIUM,F,SIMPLE-T\n",
            "E94,M,13,1901,RR,?,2,G,THROUGH,STEEL,LONG,F,SIMPLE-T\n",
            "E49,A,34,1902,HIGHWAY,1850,2,G,THROUGH,STEEL,MEDIUM,F,CANTILEV\n",
            "E95,M,16,1903,RR,1300,2,G,THROUGH,STEEL,MEDIUM,S,SIMPLE-T\n",
            "E87,A,35,1903,RR,3000,2,G,THROUGH,STEEL,MEDIUM,S,SIMPLE-T\n",
            "E51,M,6,1903,RR,1417,2,G,THROUGH,STEEL,MEDIUM,F,SIMPLE-T\n",
            "E50,M,21,1903,RR,1154,?,G,THROUGH,STEEL,LONG,F,SIMPLE-T\n",
            "E89,M,4,1904,RR,1200,2,G,THROUGH,STEEL,MEDIUM,S-F,SIMPLE-T\n",
            "E53,A,28,1904,RR,965,4,G,THROUGH,STEEL,MEDIUM,S-F,SIMPLE-T\n",
            "E52,M,2,1904,RR,1504,?,G,THROUGH,STEEL,LONG,F,CANTILEV\n",
            "E54,Y,?,1908,HIGHWAY,1240,?,G,?,STEEL,MEDIUM,F,SIMPLE-T\n",
            "E56,M,23,1909,HIGHWAY,?,?,G,THROUGH,STEEL,MEDIUM,F,SIMPLE-T\n",
            "E55,A,36,1909,HIGHWAY,1730,2,G,THROUGH,STEEL,LONG,F,SIMPLE-T\n",
            "E57,O,49,1910,RR,1620,2,G,THROUGH,STEEL,LONG,F,CANTILEV\n",
            "E59,O,43,1911,HIGHWAY,1652,2,G,THROUGH,STEEL,LONG,F,CANTILEV\n",
            "E107,A,39,1914,RR,?,?,G,?,STEEL,?,F,NIL\n",
            "E92,M,10,1914,RR,2210,?,G,THROUGH,STEEL,MEDIUM,F,SIMPLE-T\n",
            "E61,O,41,1915,RR,2822,2,G,THROUGH,STEEL,LONG,F,SIMPLE-T\n",
            "E60,A,24,1915,HIGHWAY,1000,4,G,THROUGH,STEEL,LONG,F,SIMPLE-T\n",
            "E62,A,37,1918,RR,2300,2,N,DECK,STEEL,LONG,F,CONT-T\n",
            "E63,A,31,1920,RR,2122,2,G,THROUGH,STEEL,MEDIUM,F,SIMPLE-T\n",
            "E65,A,30,1921,WALK,?,?,G,THROUGH,STEEL,?,F,SUSPEN\n",
            "E64,A,29,1923,HIGHWAY,885,4,G,THROUGH,STEEL,MEDIUM,F,ARCH\n",
            "E66,A,32,1924,HIGHWAY,2365,4,G,THROUGH,STEEL,MEDIUM,S,ARCH\n",
            "E70,A,27,1926,HIGHWAY,860,4,G,THROUGH,STEEL,MEDIUM,S-F,SUSPEN\n",
            "E69,A,26,1926,HIGHWAY,884,4,G,THROUGH,STEEL,MEDIUM,S-F,SUSPEN\n",
            "E101,O,46,1927,HIGHWAY,1770,2,G,THROUGH,STEEL,LONG,S-F,CANTILEV\n",
            "E73,A,38,1927,HIGHWAY,1508,?,G,THROUGH,STEEL,MEDIUM,S,ARCH\n",
            "E72,M,5,1927,HIGHWAY,2663,4,N,DECK,STEEL,MEDIUM,S-F,CANTILEV\n",
            "E67,M,1,1927,HIGHWAY,1330,4,G,THROUGH,STEEL,LONG,F,CANTILEV\n",
            "E75,A,30,1928,HIGHWAY,2678,4,G,DECK,STEEL,MEDIUM,F,ARCH\n",
            "E74,M,20,1928,HIGHWAY,2220,2,G,DECK,STEEL,MEDIUM,S-F,CANTILEV\n",
            "E71,A,25,1928,HIGHWAY,860,4,G,THROUGH,STEEL,MEDIUM,S-F,SUSPEN\n",
            "E68,M,17,1928,HIGHWAY,2250,2,G,THROUGH,STEEL,MEDIUM,S,SIMPLE-T\n",
            "E78,O,40,1931,HIGHWAY,1365,4,G,THROUGH,STEEL,LONG,F,ARCH\n",
            "E77,O,42,1931,HIGHWAY,1450,4,N,THROUGH,STEEL,LONG,F,ARCH\n",
            "E76,M,6,1931,HIGHWAY,1500,4,G,THROUGH,STEEL,LONG,F,SUSPEN\n",
            "E93,M,11,1937,HIGHWAY,1690,4,N,DECK,STEEL,LONG,S-F,CONT-T\n",
            "E79,A,34,1939,HIGHWAY,1800,4,G,DECK,STEEL,MEDIUM,F,CANTILEV\n",
            "E108,A,39.5,1945,HIGHWAY,1060,4,G,DECK,STEEL,MEDIUM,S-F,CONT-T\n",
            "E107N,A,39.7,1945,RR,840,2,G,THROUGH,STEEL,MEDIUM,S-F,SIMPLE-T\n",
            "E105,A,38.5,1945,HIGHWAY,1710,2,N,DECK,STEEL,MEDIUM,S-F,CONT-T\n",
            "E103,O,48,1945,HIGHWAY,2160,2,G,THROUGH,STEEL,LONG,F,CANTILEV\n",
            "E97,Y,52,1945,HIGHWAY,?,?,G,THROUGH,STEEL,MEDIUM,S,ARCH\n",
            "E96,Y,51,1945,RR,?,?,G,THROUGH,STEEL,MEDIUM,F,SIMPLE-T\n",
            "E99,M,23,1950,HIGHWAY,1320,2,G,THROUGH,STEEL,MEDIUM,S-F,SIMPLE-T\n",
            "E98,M,22,1951,HIGHWAY,900,4,G,THROUGH,STEEL,MEDIUM,F,CONT-T\n",
            "E81,M,14,1951,HIGHWAY,2423,4,G,DECK,STEEL,LONG,F,CONT-T\n",
            "E80,M,19,1951,HIGHWAY,1031,4,G,THROUGH,STEEL,LONG,F,CANTILEV\n",
            "E88,A,37,1955,HIGHWAY,2300,4,N,DECK,STEEL,LONG,F,CONT-T\n",
            "E82,O,42,1955,HIGHWAY,804,?,G,THROUGH,STEEL,?,F,SIMPLE-T\n",
            "E102,O,47,1959,HIGHWAY,1700,2,G,THROUGH,STEEL,LONG,F,CONT-T\n",
            "E83,M,1,1959,HIGHWAY,1000,6,G,THROUGH,STEEL,LONG,F,ARCH\n",
            "E86,A,33,1961,HIGHWAY,980,4,G,DECK,STEEL,MEDIUM,S-F,CONT-T\n",
            "E85,M,9,1962,HIGHWAY,2213,4,G,DECK,STEEL,LONG,F,CONT-T\n",
            "E84,A,24,1969,HIGHWAY,870,6,G,THROUGH,STEEL,MEDIUM,F,ARCH\n",
            "E91,O,44,1975,HIGHWAY,3756,6,G,THROUGH,STEEL,LONG,F,ARCH\n",
            "E90,M,7,1978,HIGHWAY,950,6,G,THROUGH,STEEL,LONG,F,ARCH\n",
            "E100,O,43,1982,HIGHWAY,?,?,G,?,?,?,F,?\n",
            "E109,A,28,1986,HIGHWAY,?,?,G,?,?,?,F,?\n"
          ],
          "name": "stdout"
        }
      ]
    },
    {
      "cell_type": "code",
      "metadata": {
        "id": "sb7BsSzYC6iB",
        "colab_type": "code",
        "outputId": "c0f56fed-b0f7-4341-df4b-46f86ae52b43",
        "colab": {
          "base_uri": "https://localhost:8080/",
          "height": 204
        }
      },
      "source": [
        "import pandas as pd\n",
        "bridges = pd.read_csv(bridge_data_url)\n",
        "bridges.shape\n",
        "bridges.head()"
      ],
      "execution_count": 0,
      "outputs": [
        {
          "output_type": "execute_result",
          "data": {
            "text/html": [
              "<div>\n",
              "<style scoped>\n",
              "    .dataframe tbody tr th:only-of-type {\n",
              "        vertical-align: middle;\n",
              "    }\n",
              "\n",
              "    .dataframe tbody tr th {\n",
              "        vertical-align: top;\n",
              "    }\n",
              "\n",
              "    .dataframe thead th {\n",
              "        text-align: right;\n",
              "    }\n",
              "</style>\n",
              "<table border=\"1\" class=\"dataframe\">\n",
              "  <thead>\n",
              "    <tr style=\"text-align: right;\">\n",
              "      <th></th>\n",
              "      <th>E1</th>\n",
              "      <th>M</th>\n",
              "      <th>3</th>\n",
              "      <th>1818</th>\n",
              "      <th>HIGHWAY</th>\n",
              "      <th>?</th>\n",
              "      <th>2</th>\n",
              "      <th>N</th>\n",
              "      <th>THROUGH</th>\n",
              "      <th>WOOD</th>\n",
              "      <th>SHORT</th>\n",
              "      <th>S</th>\n",
              "      <th>WOOD.1</th>\n",
              "    </tr>\n",
              "  </thead>\n",
              "  <tbody>\n",
              "    <tr>\n",
              "      <th>0</th>\n",
              "      <td>E2</td>\n",
              "      <td>A</td>\n",
              "      <td>25</td>\n",
              "      <td>1819</td>\n",
              "      <td>HIGHWAY</td>\n",
              "      <td>1037</td>\n",
              "      <td>2</td>\n",
              "      <td>N</td>\n",
              "      <td>THROUGH</td>\n",
              "      <td>WOOD</td>\n",
              "      <td>SHORT</td>\n",
              "      <td>S</td>\n",
              "      <td>WOOD</td>\n",
              "    </tr>\n",
              "    <tr>\n",
              "      <th>1</th>\n",
              "      <td>E3</td>\n",
              "      <td>A</td>\n",
              "      <td>39</td>\n",
              "      <td>1829</td>\n",
              "      <td>AQUEDUCT</td>\n",
              "      <td>?</td>\n",
              "      <td>1</td>\n",
              "      <td>N</td>\n",
              "      <td>THROUGH</td>\n",
              "      <td>WOOD</td>\n",
              "      <td>?</td>\n",
              "      <td>S</td>\n",
              "      <td>WOOD</td>\n",
              "    </tr>\n",
              "    <tr>\n",
              "      <th>2</th>\n",
              "      <td>E5</td>\n",
              "      <td>A</td>\n",
              "      <td>29</td>\n",
              "      <td>1837</td>\n",
              "      <td>HIGHWAY</td>\n",
              "      <td>1000</td>\n",
              "      <td>2</td>\n",
              "      <td>N</td>\n",
              "      <td>THROUGH</td>\n",
              "      <td>WOOD</td>\n",
              "      <td>SHORT</td>\n",
              "      <td>S</td>\n",
              "      <td>WOOD</td>\n",
              "    </tr>\n",
              "    <tr>\n",
              "      <th>3</th>\n",
              "      <td>E6</td>\n",
              "      <td>M</td>\n",
              "      <td>23</td>\n",
              "      <td>1838</td>\n",
              "      <td>HIGHWAY</td>\n",
              "      <td>?</td>\n",
              "      <td>2</td>\n",
              "      <td>N</td>\n",
              "      <td>THROUGH</td>\n",
              "      <td>WOOD</td>\n",
              "      <td>?</td>\n",
              "      <td>S</td>\n",
              "      <td>WOOD</td>\n",
              "    </tr>\n",
              "    <tr>\n",
              "      <th>4</th>\n",
              "      <td>E7</td>\n",
              "      <td>A</td>\n",
              "      <td>27</td>\n",
              "      <td>1840</td>\n",
              "      <td>HIGHWAY</td>\n",
              "      <td>990</td>\n",
              "      <td>2</td>\n",
              "      <td>N</td>\n",
              "      <td>THROUGH</td>\n",
              "      <td>WOOD</td>\n",
              "      <td>MEDIUM</td>\n",
              "      <td>S</td>\n",
              "      <td>WOOD</td>\n",
              "    </tr>\n",
              "  </tbody>\n",
              "</table>\n",
              "</div>"
            ],
            "text/plain": [
              "   E1  M   3  1818   HIGHWAY     ?  2  N  THROUGH  WOOD   SHORT  S WOOD.1\n",
              "0  E2  A  25  1819   HIGHWAY  1037  2  N  THROUGH  WOOD   SHORT  S   WOOD\n",
              "1  E3  A  39  1829  AQUEDUCT     ?  1  N  THROUGH  WOOD       ?  S   WOOD\n",
              "2  E5  A  29  1837   HIGHWAY  1000  2  N  THROUGH  WOOD   SHORT  S   WOOD\n",
              "3  E6  M  23  1838   HIGHWAY     ?  2  N  THROUGH  WOOD       ?  S   WOOD\n",
              "4  E7  A  27  1840   HIGHWAY   990  2  N  THROUGH  WOOD  MEDIUM  S   WOOD"
            ]
          },
          "metadata": {
            "tags": []
          },
          "execution_count": 15
        }
      ]
    },
    {
      "cell_type": "code",
      "metadata": {
        "id": "zyhyEZuNEorx",
        "colab_type": "code",
        "outputId": "2847520a-6d65-437d-cfca-06a2e05dd7d2",
        "colab": {
          "base_uri": "https://localhost:8080/",
          "height": 204
        }
      },
      "source": [
        "bridges.tail()"
      ],
      "execution_count": 0,
      "outputs": [
        {
          "output_type": "execute_result",
          "data": {
            "text/html": [
              "<div>\n",
              "<style scoped>\n",
              "    .dataframe tbody tr th:only-of-type {\n",
              "        vertical-align: middle;\n",
              "    }\n",
              "\n",
              "    .dataframe tbody tr th {\n",
              "        vertical-align: top;\n",
              "    }\n",
              "\n",
              "    .dataframe thead th {\n",
              "        text-align: right;\n",
              "    }\n",
              "</style>\n",
              "<table border=\"1\" class=\"dataframe\">\n",
              "  <thead>\n",
              "    <tr style=\"text-align: right;\">\n",
              "      <th></th>\n",
              "      <th>E1</th>\n",
              "      <th>M</th>\n",
              "      <th>3</th>\n",
              "      <th>1818</th>\n",
              "      <th>HIGHWAY</th>\n",
              "      <th>?</th>\n",
              "      <th>2</th>\n",
              "      <th>N</th>\n",
              "      <th>THROUGH</th>\n",
              "      <th>WOOD</th>\n",
              "      <th>SHORT</th>\n",
              "      <th>S</th>\n",
              "      <th>WOOD.1</th>\n",
              "    </tr>\n",
              "  </thead>\n",
              "  <tbody>\n",
              "    <tr>\n",
              "      <th>102</th>\n",
              "      <td>E84</td>\n",
              "      <td>A</td>\n",
              "      <td>24</td>\n",
              "      <td>1969</td>\n",
              "      <td>HIGHWAY</td>\n",
              "      <td>870</td>\n",
              "      <td>6</td>\n",
              "      <td>G</td>\n",
              "      <td>THROUGH</td>\n",
              "      <td>STEEL</td>\n",
              "      <td>MEDIUM</td>\n",
              "      <td>F</td>\n",
              "      <td>ARCH</td>\n",
              "    </tr>\n",
              "    <tr>\n",
              "      <th>103</th>\n",
              "      <td>E91</td>\n",
              "      <td>O</td>\n",
              "      <td>44</td>\n",
              "      <td>1975</td>\n",
              "      <td>HIGHWAY</td>\n",
              "      <td>3756</td>\n",
              "      <td>6</td>\n",
              "      <td>G</td>\n",
              "      <td>THROUGH</td>\n",
              "      <td>STEEL</td>\n",
              "      <td>LONG</td>\n",
              "      <td>F</td>\n",
              "      <td>ARCH</td>\n",
              "    </tr>\n",
              "    <tr>\n",
              "      <th>104</th>\n",
              "      <td>E90</td>\n",
              "      <td>M</td>\n",
              "      <td>7</td>\n",
              "      <td>1978</td>\n",
              "      <td>HIGHWAY</td>\n",
              "      <td>950</td>\n",
              "      <td>6</td>\n",
              "      <td>G</td>\n",
              "      <td>THROUGH</td>\n",
              "      <td>STEEL</td>\n",
              "      <td>LONG</td>\n",
              "      <td>F</td>\n",
              "      <td>ARCH</td>\n",
              "    </tr>\n",
              "    <tr>\n",
              "      <th>105</th>\n",
              "      <td>E100</td>\n",
              "      <td>O</td>\n",
              "      <td>43</td>\n",
              "      <td>1982</td>\n",
              "      <td>HIGHWAY</td>\n",
              "      <td>?</td>\n",
              "      <td>?</td>\n",
              "      <td>G</td>\n",
              "      <td>?</td>\n",
              "      <td>?</td>\n",
              "      <td>?</td>\n",
              "      <td>F</td>\n",
              "      <td>?</td>\n",
              "    </tr>\n",
              "    <tr>\n",
              "      <th>106</th>\n",
              "      <td>E109</td>\n",
              "      <td>A</td>\n",
              "      <td>28</td>\n",
              "      <td>1986</td>\n",
              "      <td>HIGHWAY</td>\n",
              "      <td>?</td>\n",
              "      <td>?</td>\n",
              "      <td>G</td>\n",
              "      <td>?</td>\n",
              "      <td>?</td>\n",
              "      <td>?</td>\n",
              "      <td>F</td>\n",
              "      <td>?</td>\n",
              "    </tr>\n",
              "  </tbody>\n",
              "</table>\n",
              "</div>"
            ],
            "text/plain": [
              "       E1  M   3  1818  HIGHWAY     ?  2  N  THROUGH   WOOD   SHORT  S WOOD.1\n",
              "102   E84  A  24  1969  HIGHWAY   870  6  G  THROUGH  STEEL  MEDIUM  F   ARCH\n",
              "103   E91  O  44  1975  HIGHWAY  3756  6  G  THROUGH  STEEL    LONG  F   ARCH\n",
              "104   E90  M   7  1978  HIGHWAY   950  6  G  THROUGH  STEEL    LONG  F   ARCH\n",
              "105  E100  O  43  1982  HIGHWAY     ?  ?  G        ?      ?       ?  F      ?\n",
              "106  E109  A  28  1986  HIGHWAY     ?  ?  G        ?      ?       ?  F      ?"
            ]
          },
          "metadata": {
            "tags": []
          },
          "execution_count": 16
        }
      ]
    },
    {
      "cell_type": "code",
      "metadata": {
        "id": "Td_1sl37E2d5",
        "colab_type": "code",
        "outputId": "1b8295dd-ff46-4833-fd1e-fe7893bf342f",
        "colab": {
          "base_uri": "https://localhost:8080/",
          "height": 255
        }
      },
      "source": [
        "bridges.isnull().sum()"
      ],
      "execution_count": 0,
      "outputs": [
        {
          "output_type": "execute_result",
          "data": {
            "text/plain": [
              "E1         0\n",
              "M          0\n",
              "3          0\n",
              "1818       0\n",
              "HIGHWAY    0\n",
              "?          0\n",
              "2          0\n",
              "N          0\n",
              "THROUGH    0\n",
              "WOOD       0\n",
              "SHORT      0\n",
              "S          0\n",
              "WOOD.1     0\n",
              "dtype: int64"
            ]
          },
          "metadata": {
            "tags": []
          },
          "execution_count": 17
        }
      ]
    },
    {
      "cell_type": "code",
      "metadata": {
        "id": "Hz0lphBAFUOU",
        "colab_type": "code",
        "outputId": "f21bafb6-8365-495b-f390-f3d1ef702b5b",
        "colab": {
          "base_uri": "https://localhost:8080/",
          "height": 297
        }
      },
      "source": [
        "bridges.describe()"
      ],
      "execution_count": 0,
      "outputs": [
        {
          "output_type": "execute_result",
          "data": {
            "text/html": [
              "<div>\n",
              "<style scoped>\n",
              "    .dataframe tbody tr th:only-of-type {\n",
              "        vertical-align: middle;\n",
              "    }\n",
              "\n",
              "    .dataframe tbody tr th {\n",
              "        vertical-align: top;\n",
              "    }\n",
              "\n",
              "    .dataframe thead th {\n",
              "        text-align: right;\n",
              "    }\n",
              "</style>\n",
              "<table border=\"1\" class=\"dataframe\">\n",
              "  <thead>\n",
              "    <tr style=\"text-align: right;\">\n",
              "      <th></th>\n",
              "      <th>1818</th>\n",
              "    </tr>\n",
              "  </thead>\n",
              "  <tbody>\n",
              "    <tr>\n",
              "      <th>count</th>\n",
              "      <td>107.000000</td>\n",
              "    </tr>\n",
              "    <tr>\n",
              "      <th>mean</th>\n",
              "      <td>1906.130841</td>\n",
              "    </tr>\n",
              "    <tr>\n",
              "      <th>std</th>\n",
              "      <td>36.363750</td>\n",
              "    </tr>\n",
              "    <tr>\n",
              "      <th>min</th>\n",
              "      <td>1819.000000</td>\n",
              "    </tr>\n",
              "    <tr>\n",
              "      <th>25%</th>\n",
              "      <td>1884.000000</td>\n",
              "    </tr>\n",
              "    <tr>\n",
              "      <th>50%</th>\n",
              "      <td>1903.000000</td>\n",
              "    </tr>\n",
              "    <tr>\n",
              "      <th>75%</th>\n",
              "      <td>1928.000000</td>\n",
              "    </tr>\n",
              "    <tr>\n",
              "      <th>max</th>\n",
              "      <td>1986.000000</td>\n",
              "    </tr>\n",
              "  </tbody>\n",
              "</table>\n",
              "</div>"
            ],
            "text/plain": [
              "              1818\n",
              "count   107.000000\n",
              "mean   1906.130841\n",
              "std      36.363750\n",
              "min    1819.000000\n",
              "25%    1884.000000\n",
              "50%    1903.000000\n",
              "75%    1928.000000\n",
              "max    1986.000000"
            ]
          },
          "metadata": {
            "tags": []
          },
          "execution_count": 18
        }
      ]
    },
    {
      "cell_type": "code",
      "metadata": {
        "id": "RiiRy67lKeXJ",
        "colab_type": "code",
        "outputId": "3bb180da-b1c3-4167-b64c-d8b4c55e4f48",
        "colab": {
          "base_uri": "https://localhost:8080/",
          "height": 204
        }
      },
      "source": [
        "\n",
        "bridge_data = pd.read_csv(bridge_data_url, header=None, na_values = ['?'])\n",
        "bridge_data.head()"
      ],
      "execution_count": 0,
      "outputs": [
        {
          "output_type": "execute_result",
          "data": {
            "text/html": [
              "<div>\n",
              "<style scoped>\n",
              "    .dataframe tbody tr th:only-of-type {\n",
              "        vertical-align: middle;\n",
              "    }\n",
              "\n",
              "    .dataframe tbody tr th {\n",
              "        vertical-align: top;\n",
              "    }\n",
              "\n",
              "    .dataframe thead th {\n",
              "        text-align: right;\n",
              "    }\n",
              "</style>\n",
              "<table border=\"1\" class=\"dataframe\">\n",
              "  <thead>\n",
              "    <tr style=\"text-align: right;\">\n",
              "      <th></th>\n",
              "      <th>0</th>\n",
              "      <th>1</th>\n",
              "      <th>2</th>\n",
              "      <th>3</th>\n",
              "      <th>4</th>\n",
              "      <th>5</th>\n",
              "      <th>6</th>\n",
              "      <th>7</th>\n",
              "      <th>8</th>\n",
              "      <th>9</th>\n",
              "      <th>10</th>\n",
              "      <th>11</th>\n",
              "      <th>12</th>\n",
              "    </tr>\n",
              "  </thead>\n",
              "  <tbody>\n",
              "    <tr>\n",
              "      <th>0</th>\n",
              "      <td>E1</td>\n",
              "      <td>M</td>\n",
              "      <td>3.0</td>\n",
              "      <td>1818</td>\n",
              "      <td>HIGHWAY</td>\n",
              "      <td>NaN</td>\n",
              "      <td>2.0</td>\n",
              "      <td>N</td>\n",
              "      <td>THROUGH</td>\n",
              "      <td>WOOD</td>\n",
              "      <td>SHORT</td>\n",
              "      <td>S</td>\n",
              "      <td>WOOD</td>\n",
              "    </tr>\n",
              "    <tr>\n",
              "      <th>1</th>\n",
              "      <td>E2</td>\n",
              "      <td>A</td>\n",
              "      <td>25.0</td>\n",
              "      <td>1819</td>\n",
              "      <td>HIGHWAY</td>\n",
              "      <td>1037.0</td>\n",
              "      <td>2.0</td>\n",
              "      <td>N</td>\n",
              "      <td>THROUGH</td>\n",
              "      <td>WOOD</td>\n",
              "      <td>SHORT</td>\n",
              "      <td>S</td>\n",
              "      <td>WOOD</td>\n",
              "    </tr>\n",
              "    <tr>\n",
              "      <th>2</th>\n",
              "      <td>E3</td>\n",
              "      <td>A</td>\n",
              "      <td>39.0</td>\n",
              "      <td>1829</td>\n",
              "      <td>AQUEDUCT</td>\n",
              "      <td>NaN</td>\n",
              "      <td>1.0</td>\n",
              "      <td>N</td>\n",
              "      <td>THROUGH</td>\n",
              "      <td>WOOD</td>\n",
              "      <td>NaN</td>\n",
              "      <td>S</td>\n",
              "      <td>WOOD</td>\n",
              "    </tr>\n",
              "    <tr>\n",
              "      <th>3</th>\n",
              "      <td>E5</td>\n",
              "      <td>A</td>\n",
              "      <td>29.0</td>\n",
              "      <td>1837</td>\n",
              "      <td>HIGHWAY</td>\n",
              "      <td>1000.0</td>\n",
              "      <td>2.0</td>\n",
              "      <td>N</td>\n",
              "      <td>THROUGH</td>\n",
              "      <td>WOOD</td>\n",
              "      <td>SHORT</td>\n",
              "      <td>S</td>\n",
              "      <td>WOOD</td>\n",
              "    </tr>\n",
              "    <tr>\n",
              "      <th>4</th>\n",
              "      <td>E6</td>\n",
              "      <td>M</td>\n",
              "      <td>23.0</td>\n",
              "      <td>1838</td>\n",
              "      <td>HIGHWAY</td>\n",
              "      <td>NaN</td>\n",
              "      <td>2.0</td>\n",
              "      <td>N</td>\n",
              "      <td>THROUGH</td>\n",
              "      <td>WOOD</td>\n",
              "      <td>NaN</td>\n",
              "      <td>S</td>\n",
              "      <td>WOOD</td>\n",
              "    </tr>\n",
              "  </tbody>\n",
              "</table>\n",
              "</div>"
            ],
            "text/plain": [
              "   0  1     2     3         4       5    6  7        8     9      10 11    12\n",
              "0  E1  M   3.0  1818   HIGHWAY     NaN  2.0  N  THROUGH  WOOD  SHORT  S  WOOD\n",
              "1  E2  A  25.0  1819   HIGHWAY  1037.0  2.0  N  THROUGH  WOOD  SHORT  S  WOOD\n",
              "2  E3  A  39.0  1829  AQUEDUCT     NaN  1.0  N  THROUGH  WOOD    NaN  S  WOOD\n",
              "3  E5  A  29.0  1837   HIGHWAY  1000.0  2.0  N  THROUGH  WOOD  SHORT  S  WOOD\n",
              "4  E6  M  23.0  1838   HIGHWAY     NaN  2.0  N  THROUGH  WOOD    NaN  S  WOOD"
            ]
          },
          "metadata": {
            "tags": []
          },
          "execution_count": 24
        }
      ]
    },
    {
      "cell_type": "markdown",
      "metadata": {
        "id": "-gFnZR6iLLPY",
        "colab_type": "text"
      },
      "source": [
        "## 2) Load a dataset from your local machine.\n",
        "Choose a second dataset from the \"Popular Datasets\" listing on UCI, but this time download it to your local machine instead of reading it in via the URL. Upload the file to Google Colab using the files tab in the left-hand sidebar or by importing `files` from `google.colab` The following link will be a useful resource if you can't remember the syntax: <https://towardsdatascience.com/3-ways-to-load-csv-files-into-colab-7c14fcbdcb92>\n",
        "\n",
        "- Answer all of the same bullet point questions from part 1 again on this new dataset. \n"
      ]
    },
    {
      "cell_type": "code",
      "metadata": {
        "id": "qUmwX-ZoM9cq",
        "colab_type": "code",
        "outputId": "e67941db-52af-4e2f-861b-0c9e08a9b7b6",
        "colab": {
          "resources": {
            "http://localhost:8080/nbextensions/google.colab/files.js": {
              "data": "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",
              "ok": true,
              "headers": [
                [
                  "content-type",
                  "application/javascript"
                ]
              ],
              "status": 200,
              "status_text": ""
            }
          },
          "base_uri": "https://localhost:8080/",
          "height": 71
        }
      },
      "source": [
        "# TODO your work here!\n",
        "# And note you should write comments, descriptions, and add new\n",
        "# code and text blocks as needed\n",
        "from google.colab import files\n",
        "uploaded = files.upload()"
      ],
      "execution_count": 0,
      "outputs": [
        {
          "output_type": "display_data",
          "data": {
            "text/html": [
              "\n",
              "     <input type=\"file\" id=\"files-7dff144c-e0f6-4e0d-8bf6-9ab25806d796\" name=\"files[]\" multiple disabled />\n",
              "     <output id=\"result-7dff144c-e0f6-4e0d-8bf6-9ab25806d796\">\n",
              "      Upload widget is only available when the cell has been executed in the\n",
              "      current browser session. Please rerun this cell to enable.\n",
              "      </output>\n",
              "      <script src=\"/nbextensions/google.colab/files.js\"></script> "
            ],
            "text/plain": [
              "<IPython.core.display.HTML object>"
            ]
          },
          "metadata": {
            "tags": []
          }
        },
        {
          "output_type": "stream",
          "text": [
            "Saving bridges.data.version1 to bridges.data.version1\n"
          ],
          "name": "stdout"
        }
      ]
    },
    {
      "cell_type": "markdown",
      "metadata": {
        "id": "mq_aQjxlM-u5",
        "colab_type": "text"
      },
      "source": [
        "## 3) Make Crosstabs of the Categorical Variables\n",
        "\n",
        "Take whichever of the above datasets has more categorical variables and use crosstabs to tabulate the different instances of the categorical variables.\n"
      ]
    },
    {
      "cell_type": "code",
      "metadata": {
        "id": "9-n9-LTM-18p",
        "colab_type": "code",
        "colab": {}
      },
      "source": [
        "# Your Code Here"
      ],
      "execution_count": 0,
      "outputs": []
    },
    {
      "cell_type": "markdown",
      "metadata": {
        "id": "OJ4t2IAk-6Vg",
        "colab_type": "text"
      },
      "source": [
        "## 4) Explore the distributions of the variables of the dataset using:\n",
        "- Histograms\n",
        "- Scatterplots\n",
        "- Density Plots"
      ]
    },
    {
      "cell_type": "code",
      "metadata": {
        "id": "DhES5WmH_NFt",
        "colab_type": "code",
        "colab": {}
      },
      "source": [
        "# Your Code Here"
      ],
      "execution_count": 0,
      "outputs": []
    },
    {
      "cell_type": "markdown",
      "metadata": {
        "id": "LXXTzpgp_N0q",
        "colab_type": "text"
      },
      "source": [
        "## 5) Create at least one visualization from a crosstab:\n",
        "\n",
        "Remember that a crosstab is just a dataframe and can be manipulated in the same way by row index, column, index, or column/row/cell position.\n"
      ]
    },
    {
      "cell_type": "code",
      "metadata": {
        "id": "kBQKXHUa_VxM",
        "colab_type": "code",
        "colab": {}
      },
      "source": [
        "# Your Code Here"
      ],
      "execution_count": 0,
      "outputs": []
    },
    {
      "cell_type": "markdown",
      "metadata": {
        "id": "MZCxTwKuReV9",
        "colab_type": "text"
      },
      "source": [
        "## Stretch Goals \n",
        "\n",
        "The following additional study tasks are optional, they are intended to give you an opportunity to stretch yourself beyond the main requirements of the assignment. You can pick and choose from the below, you do not need to complete them in any particular order.\n",
        "\n",
        "### - Practice Exploring other Datasets\n",
        "\n",
        "### -  Try using the Seaborn plotting library's \"Pairplot\" functionality in order to explore all of the possible histograms and scatterplots of your dataset all at once:\n",
        "\n",
        "[Seaborn Pairplot](https://seaborn.pydata.org/generated/seaborn.pairplot.html)\n",
        "\n",
        "### - Turn some of the continuous variables into categorical variables by binning the values using:\n",
        "- [pd.cut()](https://pandas.pydata.org/pandas-docs/version/0.23.4/generated/pandas.cut.html)\n",
        "- [pd.qcut()](https://pandas.pydata.org/pandas-docs/stable/reference/api/pandas.qcut.html)\n",
        "- <https://stackoverflow.com/questions/30211923/what-is-the-difference-between-pandas-qcut-and-pandas-cut>\n",
        "\n",
        "And then use crosstabs to compare/visualize these binned variables against the other variables.\n",
        "\n",
        "\n",
        "### - Other types and sources of data\n",
        "Not all data comes in a nice single file - for example, image classification involves handling lots of image files. You still will probably want labels for them, so you may have tabular data in addition to the image blobs - and the images may be reduced in resolution and even fit in a regular csv as a bunch of numbers.\n",
        "\n",
        "If you're interested in natural language processing and analyzing text, that is another example where, while it can be put in a csv, you may end up loading much larger raw data and generating features that can then be thought of in a more standard tabular fashion.\n",
        "\n",
        "Overall you will in the course of learning data science deal with loading data in a variety of ways. Another common way to get data is from a database - most modern applications are backed by one or more databases, which you can query to get data to analyze. We'll cover this more in our data engineering unit.\n",
        "\n",
        "How does data get in the database? Most applications generate logs - text files with lots and lots of records of each use of the application. Databases are often populated based on these files, but in some situations you may directly analyze log files. The usual way to do this is with command line (Unix) tools - command lines are intimidating, so don't expect to learn them all at once, but depending on your interests it can be useful to practice.\n",
        "\n",
        "One last major source of data is APIs: https://github.com/toddmotto/public-apis\n",
        "\n",
        "API stands for Application Programming Interface, and while originally meant e.g. the way an application interfaced with the GUI or other aspects of an operating system, now it largely refers to online services that let you query and retrieve data. You can essentially think of most of them as \"somebody else's database\" - you have (usually limited) access.\n",
        "\n",
        "*Stretch goal* - research one of the above extended forms of data/data loading. See if you can get a basic example working in a notebook. Image, text, or (public) APIs are probably more tractable - databases are interesting, but there aren't many publicly accessible and they require a great deal of setup."
      ]
    },
    {
      "cell_type": "code",
      "metadata": {
        "id": "f4QP6--JBXNK",
        "colab_type": "code",
        "colab": {}
      },
      "source": [
        "import seaborn as sns\n"
      ],
      "execution_count": 0,
      "outputs": []
    }
  ]
}